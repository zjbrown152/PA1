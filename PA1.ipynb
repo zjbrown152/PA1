{
 "cells": [
  {
   "cell_type": "markdown",
   "id": "8fe72bec",
   "metadata": {},
   "source": [
    "# Programming Assignment 1\n",
    "<p>Author: Zane Brown<br> Version: 1<br> CS-150-01<p>\n",
    "\n"
   ]
  },
  {
   "cell_type": "code",
   "execution_count": 20,
   "id": "673f2087",
   "metadata": {},
   "outputs": [
    {
     "name": "stdout",
     "output_type": "stream",
     "text": [
      "Enter a floating point number. 44.3\n"
     ]
    }
   ],
   "source": [
    "num1=(float(input(\"Enter a floating point number. \")))"
   ]
  },
  {
   "cell_type": "code",
   "execution_count": 22,
   "id": "e0e4d697",
   "metadata": {},
   "outputs": [
    {
     "name": "stdout",
     "output_type": "stream",
     "text": [
      "Enter an integer. 16\n"
     ]
    }
   ],
   "source": [
    "num2=(int(input(\"Enter an integer. \")))"
   ]
  },
  {
   "cell_type": "code",
   "execution_count": 28,
   "id": "19f27392",
   "metadata": {},
   "outputs": [
    {
     "name": "stdout",
     "output_type": "stream",
     "text": [
      "The sum is 60.3\n"
     ]
    }
   ],
   "source": [
    "sum=(str(num1+num2))\n",
    "print(\"The sum is \"+sum)"
   ]
  },
  {
   "cell_type": "code",
   "execution_count": 29,
   "id": "8d94284a",
   "metadata": {},
   "outputs": [
    {
     "name": "stdout",
     "output_type": "stream",
     "text": [
      "The difference is 28.299999999999997\n"
     ]
    }
   ],
   "source": [
    "df1=(str(num1-num2))\n",
    "print(\"The difference is \"+df1)"
   ]
  },
  {
   "cell_type": "code",
   "execution_count": 30,
   "id": "d49733f3",
   "metadata": {},
   "outputs": [
    {
     "name": "stdout",
     "output_type": "stream",
     "text": [
      "The product is 708.8\n"
     ]
    }
   ],
   "source": [
    "prod=(str(num1*num2))\n",
    "print(\"The product is \"+prod)"
   ]
  },
  {
   "cell_type": "code",
   "execution_count": 31,
   "id": "42354183",
   "metadata": {},
   "outputs": [
    {
     "name": "stdout",
     "output_type": "stream",
     "text": [
      "The quotient is 2.76875\n"
     ]
    }
   ],
   "source": [
    "div=(str(num1/num2))\n",
    "print(\"The quotient is \"+div)"
   ]
  },
  {
   "cell_type": "code",
   "execution_count": 37,
   "id": "94ec0bf5",
   "metadata": {},
   "outputs": [
    {
     "name": "stdout",
     "output_type": "stream",
     "text": [
      "The type for the result is <class 'float'>\n"
     ]
    }
   ],
   "source": [
    "print(\"The type for the result is <class \\'float'>\")"
   ]
  }
 ],
 "metadata": {
  "kernelspec": {
   "display_name": "Python 3",
   "language": "python",
   "name": "python3"
  },
  "language_info": {
   "codemirror_mode": {
    "name": "ipython",
    "version": 3
   },
   "file_extension": ".py",
   "mimetype": "text/x-python",
   "name": "python",
   "nbconvert_exporter": "python",
   "pygments_lexer": "ipython3",
   "version": "3.8.8"
  }
 },
 "nbformat": 4,
 "nbformat_minor": 5
}
